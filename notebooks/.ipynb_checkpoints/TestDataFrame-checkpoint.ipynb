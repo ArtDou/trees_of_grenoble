{
 "cells": [
  {
   "cell_type": "code",
   "execution_count": null,
   "id": "608442ee",
   "metadata": {},
   "outputs": [],
   "source": [
    "# import pandas as pd\n",
    "# data = {'Name':['Tom', 'Jack', 'nick', 'juli'],\n",
    "#         'marks':[99, 98, 95, 90], \n",
    "#         'ddn':[1958, 2012, 1235, 1023]}\n",
    " \n",
    "# # Creates pandas DataFrame.\n",
    "# df = pd.DataFrame(data, index =['rank1',\n",
    "#                                 'rank2',\n",
    "#                                 'rank3',\n",
    "#                                 'rank4'])\n",
    "# df\n",
    "\n",
    "# df.loc[  df[\"ddn\"].isin(range(1100,2000))  ,  :   ]\n",
    "\n",
    "# df.loc[\"rank1\": \"rank3\", :]\n",
    "\n",
    "# df.loc[:, \"Name\":\"marks\"]\n",
    "\n",
    "# df.loc[\"rank1\":\"rank2\", \"Name\":\"marks\"]\n",
    "\n",
    "# df[\"Name\"][\"rank1\"]\n",
    "# df_col = df[\"Name\"]\n",
    "# val = df_col[\"rank1\"]\n",
    "# val\n",
    "\n",
    "# df.iloc[:2, :]\n",
    "\n",
    "# df.iloc[:2, :2]\n",
    "\n",
    "# df[[\"Name\"]]\n",
    "\n"
   ]
  }
 ],
 "metadata": {
  "kernelspec": {
   "display_name": "Python 3 (ipykernel)",
   "language": "python",
   "name": "python3"
  },
  "language_info": {
   "codemirror_mode": {
    "name": "ipython",
    "version": 3
   },
   "file_extension": ".py",
   "mimetype": "text/x-python",
   "name": "python",
   "nbconvert_exporter": "python",
   "pygments_lexer": "ipython3",
   "version": "3.9.7"
  }
 },
 "nbformat": 4,
 "nbformat_minor": 5
}
